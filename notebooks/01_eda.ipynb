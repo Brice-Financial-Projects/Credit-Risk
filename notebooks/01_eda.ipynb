{
 "cells": [
  {
   "cell_type": "code",
   "id": "initial_id",
   "metadata": {
    "collapsed": true,
    "ExecuteTime": {
     "end_time": "2025-08-24T04:52:00.799364Z",
     "start_time": "2025-08-24T04:52:00.788660Z"
    }
   },
   "source": [
    "import numpy as np\n",
    "import pandas as pd\n",
    "import matplotlib as plt\n",
    "import seaborn as sns\n"
   ],
   "outputs": [],
   "execution_count": 1
  },
  {
   "metadata": {},
   "cell_type": "markdown",
   "source": "# Data Exploratory\n",
   "id": "5cdc8d162e1fd72a"
  },
  {
   "metadata": {
    "ExecuteTime": {
     "end_time": "2025-08-24T04:59:19.930121Z",
     "start_time": "2025-08-24T04:59:19.896805Z"
    }
   },
   "cell_type": "code",
   "source": [
    "# Head & Shape\n",
    "df = pd.read_csv('../data/raw/credit_risk_dataset.csv')\n",
    "print(df.head())\n",
    "print(f'Dataset Shape: {df.shape}')"
   ],
   "id": "975db79619adfa3b",
   "outputs": [
    {
     "name": "stdout",
     "output_type": "stream",
     "text": [
      "   Firm_ID  Year  Month  Day  Default     WC/TA     RE/TA   EBIT/TA     ME/TL  \\\n",
      "0      211  2015     10   17        0 -0.073746  0.400052  0.316849  2.030232   \n",
      "1       29  2011      2   17        0  0.021770  0.356333 -0.041019  0.673647   \n",
      "2      290  2014      5   27        0  0.013807  0.225166  0.000505  0.604054   \n",
      "3       36  2010      5   10        0  0.129196 -0.006947  0.121878  1.101779   \n",
      "4       72  2017      8    9        0 -0.098117  0.358716  0.026096  1.116465   \n",
      "\n",
      "       S/TA  \n",
      "0  0.791978  \n",
      "1  0.214439  \n",
      "2  0.605407  \n",
      "3  0.625323  \n",
      "4  0.655778  \n",
      "Dataset Shape: (4000, 10)\n"
     ]
    }
   ],
   "execution_count": 6
  },
  {
   "metadata": {},
   "cell_type": "code",
   "outputs": [],
   "execution_count": null,
   "source": "",
   "id": "626a011d7ad98fd7"
  }
 ],
 "metadata": {
  "kernelspec": {
   "display_name": "Python 3",
   "language": "python",
   "name": "python3"
  },
  "language_info": {
   "codemirror_mode": {
    "name": "ipython",
    "version": 2
   },
   "file_extension": ".py",
   "mimetype": "text/x-python",
   "name": "python",
   "nbconvert_exporter": "python",
   "pygments_lexer": "ipython2",
   "version": "2.7.6"
  }
 },
 "nbformat": 4,
 "nbformat_minor": 5
}
